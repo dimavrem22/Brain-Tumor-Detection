{
 "cells": [
  {
   "cell_type": "code",
   "execution_count": null,
   "metadata": {},
   "outputs": [],
   "source": [
    "from kaggle.api.kaggle_api_extended import KaggleApi\n",
    "import os\n",
    "from zipfile import ZipFile\n",
    "import pathlib\n",
    "import shutil\n",
    "\n",
    "api = KaggleApi()\n",
    "api.authenticate()"
   ]
  },
  {
   "cell_type": "markdown",
   "metadata": {},
   "source": [
    "#### Utils "
   ]
  },
  {
   "cell_type": "code",
   "execution_count": null,
   "metadata": {},
   "outputs": [],
   "source": [
    "def normalize_dataset_splits(root_path):\n",
    "    \"\"\"\n",
    "    Renames folders starting with any capitalized version of \"train\", \"test\", \"validation\"\n",
    "    to \"train\", \"test\", and \"validation\" respectively.\n",
    "    \"\"\"\n",
    "    for folder_name in os.listdir(root_path):\n",
    "        folder_path = os.path.join(root_path, folder_name)\n",
    "        if os.path.isdir(folder_path):\n",
    "            lower_folder_name = folder_name.lower()\n",
    "            if lower_folder_name.startswith(\"train\"):\n",
    "                new_folder_path = os.path.join(root_path, \"train\")\n",
    "            elif lower_folder_name.startswith(\"test\"):\n",
    "                new_folder_path = os.path.join(root_path, \"test\")\n",
    "            elif lower_folder_name.startswith(\"val\"):\n",
    "                new_folder_path = os.path.join(root_path, \"validation\")\n",
    "            else:\n",
    "                continue  # Skip renaming if it doesn't match the criteria\n",
    "            \n",
    "            # Rename the folder if the new path is different from the original\n",
    "            if new_folder_path != folder_path:\n",
    "                os.rename(folder_path, new_folder_path)\n",
    "                print(f\"Renamed {folder_path} to {new_folder_path}\")\n",
    "\n",
    "def move_files_up(root_path, destination_path, depth=1, moveable_file_extensions=None):\n",
    "    \"\"\"\n",
    "    Moves all files and folders from the root_path to the destination_path.\n",
    "    \"\"\"\n",
    "    for file_name in os.listdir(root_path):\n",
    "        file_path = os.path.join(root_path, file_name)\n",
    "        if os.path.isdir(file_path):\n",
    "            move_files_up(file_path, destination_path, depth + 1, moveable_file_extensions)\n",
    "        else:\n",
    "            if moveable_file_extensions is not None:\n",
    "                file_extension = pathlib.Path(file_path).suffix\n",
    "                if file_extension not in moveable_file_extensions:\n",
    "                    continue\n",
    "                shutil.move(file_path, destination_path)\n",
    "                print(f\"Moved {file_path} to {destination_path}\")\n",
    "    \n",
    "    if depth > 1: # only remove folders if we are not at the root\n",
    "        shutil.rmtree(root_path)"
   ]
  },
  {
   "cell_type": "markdown",
   "metadata": {},
   "source": [
    "### Downloading the datasets"
   ]
  },
  {
   "cell_type": "code",
   "execution_count": null,
   "metadata": {},
   "outputs": [],
   "source": [
    "# Dataset keys for Kaggle API\n",
    "DATASET_IDS = [\n",
    "    \"pkdarabi/brain-tumor-image-dataset-semantic-segmentation\",\n",
    "]\n",
    "\n",
    "DATASET_NAMES = [\n",
    "    'tumor-segmentation-boxes',\n",
    "]\n",
    "\n",
    "# Destination folder\n",
    "DATASET_FOLDER_PATH = pathlib.Path().absolute().parent / \"datasets\"\n"
   ]
  },
  {
   "cell_type": "code",
   "execution_count": null,
   "metadata": {},
   "outputs": [],
   "source": [
    "\n",
    "for i, dataset in enumerate(DATASET_IDS):\n",
    "    print(f\"Downloading {dataset}...\")\n",
    "    dataset_path = DATASET_FOLDER_PATH / DATASET_NAMES[i]\n",
    "\n",
    "    if os.path.exists(dataset_path):\n",
    "        print(f\"{dataset} already exists. Skipping...\")\n",
    "        continue\n",
    "\n",
    "    api.dataset_download_files(dataset, path=dataset_path, quiet=False)\n",
    "\n",
    "    # Unzip the downloaded files\n",
    "    zip_file_path = f\"{dataset_path}/{dataset.split('/')[-1]}.zip\"\n",
    "    with ZipFile(zip_file_path, \"r\") as zip_ref:\n",
    "        zip_ref.extractall(dataset_path)\n",
    "\n",
    "    # Remove the zip file\n",
    "    os.remove(zip_file_path)\n",
    "    \n",
    "    # Rename folders\n",
    "    normalize_dataset_splits(dataset_path)"
   ]
  }
 ],
 "metadata": {
  "kernelspec": {
   "display_name": "school",
   "language": "python",
   "name": "python3"
  },
  "language_info": {
   "codemirror_mode": {
    "name": "ipython",
    "version": 3
   },
   "file_extension": ".py",
   "mimetype": "text/x-python",
   "name": "python",
   "nbconvert_exporter": "python",
   "pygments_lexer": "ipython3",
   "version": "3.11.8"
  }
 },
 "nbformat": 4,
 "nbformat_minor": 2
}
