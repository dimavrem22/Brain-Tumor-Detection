{
 "cells": [
  {
   "cell_type": "code",
   "execution_count": null,
   "metadata": {},
   "outputs": [],
   "source": [
    "import sys\n",
    "from torch.utils.data import DataLoader\n",
    "import matplotlib.pyplot as plt\n",
    "import pathlib\n",
    "\n",
    "# modify the sys.path to include the source directory\n",
    "src_dir = pathlib.Path().absolute().parent\n",
    "sys.path.append(str(src_dir))\n",
    "\n",
    "from src.enums import DataSplit\n",
    "from src.data.bbox import BoundingBoxDetectionDataset\n",
    "from src.enums import DataSplit\n",
    "from src.utils.transforms import BBoxResize, BBoxBaseTransform, BBoxCompose, BBoxAnchorEncode, BBoxRotate\n",
    "from src.utils.bbox import generate_anchors\n",
    "from matplotlib.patches import Rectangle"
   ]
  },
  {
   "cell_type": "code",
   "execution_count": null,
   "metadata": {},
   "outputs": [],
   "source": [
    "a_cen, a_cor = generate_anchors(256, scales=[0.1, 0.175, 0.25], aspect_ratios=[1, 2, 0.666], feature_map_sizes=[32])"
   ]
  },
  {
   "cell_type": "code",
   "execution_count": null,
   "metadata": {},
   "outputs": [],
   "source": [
    "DATASETS_ROOT = src_dir / 'datasets'\n",
    "BATCH_SIZE = 1\n",
    "\n",
    "\n",
    "transform = BBoxCompose([BBoxBaseTransform(), BBoxResize((256, 256)), ])\n",
    "# transform = BBoxCompose([BBoxBaseTransform(), BBoxResize((256, 256))])\n",
    "dataset = BoundingBoxDetectionDataset(root_dir=DATASETS_ROOT, split=DataSplit.TRAIN, transform=transform)\n",
    "\n",
    "data_loader = DataLoader(dataset, batch_size=BATCH_SIZE, shuffle=True, num_workers=0)"
   ]
  },
  {
   "cell_type": "code",
   "execution_count": null,
   "metadata": {},
   "outputs": [],
   "source": [
    "img, (l, t, b) = next(iter(data_loader))\n",
    "\n",
    "t = t[0]\n",
    "l = l[0]\n",
    "img = img[0]\n",
    "\n",
    "a_cor.shape\n",
    "(l > 0).shape\n",
    "\n",
    "b = b[0].numpy()\n",
    "b[0]"
   ]
  },
  {
   "cell_type": "code",
   "execution_count": null,
   "metadata": {},
   "outputs": [],
   "source": [
    "a_cor_p = a_cor[l > 0]\n",
    "a_cen_p = a_cen[l > 0]\n",
    "t_p = t[l > 0, :]\n",
    "l_p = l[l > 0]"
   ]
  },
  {
   "cell_type": "code",
   "execution_count": null,
   "metadata": {},
   "outputs": [],
   "source": [
    "a_cor_n = a_cor[l == 0]\n",
    "a_cen_n = a_cen[l == 0]\n",
    "t_n = t[l == 0, :]\n",
    "l_n = l[l == 0]"
   ]
  },
  {
   "cell_type": "code",
   "execution_count": null,
   "metadata": {},
   "outputs": [],
   "source": [
    "plt.imshow(img.permute(1, 2, 0).numpy(), cmap=\"gray\")\n",
    "rect = Rectangle(\n",
    "        (b[0] - b[2]/2, b[1] - b[3]/2), b[2], b[3], linewidth=2, edgecolor=\"b\", facecolor=\"none\"\n",
    "    )\n",
    "plt.gca().add_patch(rect)"
   ]
  },
  {
   "cell_type": "code",
   "execution_count": null,
   "metadata": {},
   "outputs": [],
   "source": [
    "from matplotlib.patches import Rectangle\n",
    "\n",
    "\n",
    "plt.imshow(img.permute(1, 2, 0).numpy(), cmap=\"gray\")\n",
    "for i in range(len(a_cen_p)):\n",
    "    a = a_cen_p[i]\n",
    "\n",
    "    rect = Rectangle(\n",
    "            (a[0] - a[2]/2, a[1] - a[3]/2), a[2], a[3], linewidth=3, edgecolor=\"g\", facecolor=\"none\"\n",
    "        )\n",
    "    plt.gca().add_patch(rect)\n",
    "\n",
    "rect = Rectangle(\n",
    "            (b[0] - b[2]/2, b[1] - b[3]/2), b[2], b[3], linewidth=3, edgecolor=\"b\", facecolor=\"none\"\n",
    "        )\n",
    "plt.gca().add_patch(rect)"
   ]
  },
  {
   "cell_type": "code",
   "execution_count": null,
   "metadata": {},
   "outputs": [],
   "source": [
    "from matplotlib.patches import Rectangle\n",
    "import random\n",
    "\n",
    "plt.imshow(img.permute(1, 2, 0).numpy(), cmap=\"gray\")\n",
    "for i in range(len(a_cen_n)):\n",
    "    if random.random() < 0.0005:\n",
    "        a = a_cen_n[i]\n",
    "\n",
    "        rect = Rectangle(\n",
    "                (a[0] - a[2]/2, a[1] - a[3]/2), a[2], a[3], linewidth=2, edgecolor=\"r\", facecolor=\"none\"\n",
    "            )\n",
    "        plt.gca().add_patch(rect)\n",
    "\n",
    "rect = Rectangle(\n",
    "            (b[0] - b[2]/2, b[1] - b[3]/2), b[2], b[3], linewidth=3, edgecolor=\"b\", facecolor=\"none\"\n",
    "        )\n",
    "plt.gca().add_patch(rect)"
   ]
  }
 ],
 "metadata": {
  "kernelspec": {
   "display_name": "ai_project",
   "language": "python",
   "name": "python3"
  },
  "language_info": {
   "codemirror_mode": {
    "name": "ipython",
    "version": 3
   },
   "file_extension": ".py",
   "mimetype": "text/x-python",
   "name": "python",
   "nbconvert_exporter": "python",
   "pygments_lexer": "ipython3",
   "version": "3.11.8"
  }
 },
 "nbformat": 4,
 "nbformat_minor": 2
}
