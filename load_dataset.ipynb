{
 "cells": [
  {
   "cell_type": "code",
   "execution_count": 1,
   "metadata": {},
   "outputs": [],
   "source": [
    "from kaggle.api.kaggle_api_extended import KaggleApi\n",
    "import os\n",
    "from zipfile import ZipFile\n",
    "\n",
    "api = KaggleApi()\n",
    "api.authenticate()"
   ]
  },
  {
   "cell_type": "code",
   "execution_count": 2,
   "metadata": {},
   "outputs": [],
   "source": [
    "# Dataset keys for Kaggle API\n",
    "DATASET_IDS = [\n",
    "    \"pkdarabi/brain-tumor-image-dataset-semantic-segmentation\",\n",
    "    \"masoudnickparvar/brain-tumor-mri-dataset\"\n",
    "]\n",
    "\n",
    "DATASET_NAMES = [\n",
    "    'semantic-segmentation',\n",
    "    'classification'\n",
    "]\n",
    "\n",
    "# Destination folder\n",
    "DATASET_FOLDER_PATH = \"./datasets\"\n"
   ]
  },
  {
   "cell_type": "code",
   "execution_count": 3,
   "metadata": {},
   "outputs": [
    {
     "name": "stdout",
     "output_type": "stream",
     "text": [
      "Downloading pkdarabi/brain-tumor-image-dataset-semantic-segmentation...\n",
      "pkdarabi/brain-tumor-image-dataset-semantic-segmentation already exists. Skipping...\n",
      "Downloading masoudnickparvar/brain-tumor-mri-dataset...\n",
      "masoudnickparvar/brain-tumor-mri-dataset already exists. Skipping...\n"
     ]
    }
   ],
   "source": [
    "for i, dataset in enumerate(DATASET_IDS):\n",
    "    print(f\"Downloading {dataset}...\")\n",
    "    dataset_path = f\"{DATASET_FOLDER_PATH}/{DATASET_NAMES[i]}\"\n",
    "\n",
    "    if os.path.exists(dataset_path):\n",
    "        print(f\"{dataset} already exists. Skipping...\")\n",
    "        continue\n",
    "\n",
    "    api.dataset_download_files(dataset, path=dataset_path)\n",
    "\n",
    "    # Unzip the downloaded files\n",
    "    with ZipFile(f\"{dataset_path}/{dataset.split('/')[-1]}.zip\", \"r\") as zip_ref:\n",
    "        zip_ref.extractall(dataset_path)\n",
    "\n",
    "    # Remove the zip file\n",
    "    os.remove(f\"{dataset_path}/{dataset.split('/')[-1]}.zip\")"
   ]
  }
 ],
 "metadata": {
  "kernelspec": {
   "display_name": "school",
   "language": "python",
   "name": "python3"
  },
  "language_info": {
   "codemirror_mode": {
    "name": "ipython",
    "version": 3
   },
   "file_extension": ".py",
   "mimetype": "text/x-python",
   "name": "python",
   "nbconvert_exporter": "python",
   "pygments_lexer": "ipython3",
   "version": "3.12.1"
  }
 },
 "nbformat": 4,
 "nbformat_minor": 2
}
